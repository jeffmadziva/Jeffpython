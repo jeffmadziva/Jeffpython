{
 "cells": [
  {
   "cell_type": "code",
   "execution_count": 1,
   "id": "13e891ff",
   "metadata": {},
   "outputs": [
    {
     "name": "stdout",
     "output_type": "stream",
     "text": [
      "hello world\n"
     ]
    }
   ],
   "source": [
    "print(\"hello world\")"
   ]
  },
  {
   "cell_type": "code",
   "execution_count": null,
   "id": "1a44725d",
   "metadata": {},
   "outputs": [],
   "source": []
  },
  {
   "cell_type": "code",
   "execution_count": 6,
   "id": "20308740",
   "metadata": {},
   "outputs": [
    {
     "name": "stdout",
     "output_type": "stream",
     "text": [
      "enter the value of A  : 50\n",
      "enter the value of B  : 10\n",
      "enter the value of C  : 5\n",
      "A IS GREATER THn b and c\n"
     ]
    }
   ],
   "source": [
    "a=int(input(\"enter the value of A  : \"))\n",
    "b=int(input(\"enter the value of B  : \"))\n",
    "c=int(input(\"enter the value of C  : \"))\n",
    "\n",
    "if (a>b and a>c):\n",
    "    print(\"A IS GREATER THn b and c\")"
   ]
  },
  {
   "cell_type": "code",
   "execution_count": 12,
   "id": "5c9d9cb6",
   "metadata": {},
   "outputs": [
    {
     "name": "stdout",
     "output_type": "stream",
     "text": [
      "enter age : 20\n",
      "enter weight :100\n",
      "donor\n"
     ]
    }
   ],
   "source": [
    "A=int(input(\"enter age : \"))\n",
    "if (A>18):\n",
    "    weight=float(input(\"enter weight :\"))\n",
    "    if(weight>50):\n",
    "               print(\"donor\")\n",
    "                       \n",
    "else:\n",
    "        print(\"under age\")"
   ]
  },
  {
   "cell_type": "code",
   "execution_count": 15,
   "id": "6f96a071",
   "metadata": {},
   "outputs": [
    {
     "name": "stdout",
     "output_type": "stream",
     "text": [
      "1\n",
      "3\n",
      "5\n",
      "7\n",
      "9\n"
     ]
    }
   ],
   "source": [
    "for i in range(1,11,2):\n",
    "    print(i)"
   ]
  },
  {
   "cell_type": "code",
   "execution_count": 18,
   "id": "4a0e52e8",
   "metadata": {},
   "outputs": [
    {
     "name": "stdout",
     "output_type": "stream",
     "text": [
      "*****\n",
      "****\n",
      "***\n",
      "**\n",
      "*\n"
     ]
    }
   ],
   "source": [
    "for i in range(5,0,-1):\n",
    "    for j in range(i):\n",
    "        print(\"*\",end=\"\")\n",
    "    print()"
   ]
  },
  {
   "cell_type": "code",
   "execution_count": null,
   "id": "7a3ca8fb",
   "metadata": {},
   "outputs": [],
   "source": []
  }
 ],
 "metadata": {
  "kernelspec": {
   "display_name": "Python 3 (ipykernel)",
   "language": "python",
   "name": "python3"
  },
  "language_info": {
   "codemirror_mode": {
    "name": "ipython",
    "version": 3
   },
   "file_extension": ".py",
   "mimetype": "text/x-python",
   "name": "python",
   "nbconvert_exporter": "python",
   "pygments_lexer": "ipython3",
   "version": "3.10.9"
  }
 },
 "nbformat": 4,
 "nbformat_minor": 5
}
